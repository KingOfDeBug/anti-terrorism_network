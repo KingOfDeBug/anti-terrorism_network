{
 "metadata": {
  "language_info": {
   "codemirror_mode": {
    "name": "ipython",
    "version": 3
   },
   "file_extension": ".py",
   "mimetype": "text/x-python",
   "name": "python",
   "nbconvert_exporter": "python",
   "pygments_lexer": "ipython3",
   "version": "3.7.6"
  },
  "orig_nbformat": 2,
  "kernelspec": {
   "name": "python376jvsc74a57bd02e8c85263ca45839288827feb25d669d8120b174e6d898fece6bd787e68fe800",
   "display_name": "Python 3.7.6 64-bit ('base': conda)"
  }
 },
 "nbformat": 4,
 "nbformat_minor": 2,
 "cells": [
  {
   "cell_type": "code",
   "execution_count": 18,
   "metadata": {},
   "outputs": [],
   "source": [
    "import pandas as pd\n",
    "import numpy as np\n",
    "import re\n",
    "import pickle"
   ]
  },
  {
   "source": [
    "# 读取国家名称"
   ],
   "cell_type": "markdown",
   "metadata": {}
  },
  {
   "cell_type": "code",
   "execution_count": 19,
   "metadata": {},
   "outputs": [],
   "source": [
    "country_frame = pd.read_excel('country_name.xlsx',engine='openpyxl',header=None)\n",
    "country_frame = country_frame.dropna(axis = 0,how = 'all') # 删除空行"
   ]
  },
  {
   "cell_type": "code",
   "execution_count": 20,
   "metadata": {},
   "outputs": [],
   "source": [
    "country_dict = {}\n",
    "i = 1\n",
    "for x in country_frame.itertuples():\n",
    "    lst = []\n",
    "    for y in x[1:]:\n",
    "        if not pd.isnull(y):\n",
    "            lst.append(y)\n",
    "    country_dict[i] = tuple(lst)\n",
    "    i += 1\n",
    "f = open('country_dict.txt','wb')\n",
    "pickle.dump(country_dict,f)"
   ]
  },
  {
   "source": [
    "# 爬虫结果读取"
   ],
   "cell_type": "markdown",
   "metadata": {}
  },
  {
   "cell_type": "code",
   "execution_count": 22,
   "metadata": {},
   "outputs": [],
   "source": [
    "result_frame = pd.read_excel('web_information.xlsx',engine='openpyxl')\n",
    "result_frame = result_frame.dropna(axis = 0,how = 'all') # 删除空行"
   ]
  },
  {
   "source": [
    "# 匹配"
   ],
   "cell_type": "markdown",
   "metadata": {}
  },
  {
   "cell_type": "code",
   "execution_count": 23,
   "metadata": {},
   "outputs": [],
   "source": [
    "def match(sentence):\n",
    "    lst = []\n",
    "    for item in country_dict.items():\n",
    "        name_tuple = item[1]\n",
    "        for name in name_tuple:\n",
    "            if re.search(name,sentence):\n",
    "                lst.append(item[0])\n",
    "                break\n",
    "    return lst"
   ]
  },
  {
   "cell_type": "code",
   "execution_count": 24,
   "metadata": {
    "tags": []
   },
   "outputs": [],
   "source": [
    "i = 0\n",
    "lst = []\n",
    "for title in result_frame.iloc[:,0]:\n",
    "    if not pd.isnull(title):\n",
    "        country_num = match(title)\n",
    "        if country_num:\n",
    "            lst.append([result_frame.iloc[i,0],result_frame.iloc[i,1],country_num])\n",
    "    i+=1"
   ]
  },
  {
   "cell_type": "code",
   "execution_count": 25,
   "metadata": {},
   "outputs": [],
   "source": [
    "pd.DataFrame(lst).to_excel('result.xlsx',index = False)"
   ]
  },
  {
   "cell_type": "code",
   "execution_count": null,
   "metadata": {},
   "outputs": [],
   "source": []
  }
 ]
}